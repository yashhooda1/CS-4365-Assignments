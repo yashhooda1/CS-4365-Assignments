{
  "nbformat": 4,
  "nbformat_minor": 0,
  "metadata": {
    "colab": {
      "provenance": []
    },
    "kernelspec": {
      "name": "python3",
      "display_name": "Python 3"
    },
    "language_info": {
      "name": "python"
    }
  },
  "cells": [
    {
      "cell_type": "code",
      "execution_count": null,
      "metadata": {
        "id": "bTQa6g9wV-3e"
      },
      "outputs": [],
      "source": [
        "Graph = {\n",
        "    'A' : [('B', 2), ('E', 3)],\n",
        "    'B' : [('C', 1), ('G', 9)],\n",
        "    'C' : None,\n",
        "    'D' : [('G', 1)],\n",
        "    'E' : [('D', 6)]\n",
        "}"
      ]
    },
    {
      "cell_type": "code",
      "source": [
        "Graph"
      ],
      "metadata": {
        "colab": {
          "base_uri": "https://localhost:8080/"
        },
        "id": "JzF4BPApZqB6",
        "outputId": "1558de01-6bdc-431c-d3e6-e3f252bcbef3"
      },
      "execution_count": null,
      "outputs": [
        {
          "output_type": "execute_result",
          "data": {
            "text/plain": [
              "{'A': [('B', 2), ('E', 3)],\n",
              " 'B': [('C', 1), ('G', 9)],\n",
              " 'C': None,\n",
              " 'D': [('G', 1)],\n",
              " 'E': [('D', 6)]}"
            ]
          },
          "metadata": {},
          "execution_count": 41
        }
      ]
    },
    {
      "cell_type": "code",
      "source": [
        "def heuristic(node):\n",
        "  H_dist = {\n",
        "      'A' : 11,\n",
        "      'B' : 6,\n",
        "      'C' : 99,\n",
        "      'D' : 1,\n",
        "      'E' : 7,\n",
        "      'G' : 0\n",
        "  }\n",
        "\n",
        "  return H-dist[node]"
      ],
      "metadata": {
        "id": "aTi3wvS3ZrBV"
      },
      "execution_count": null,
      "outputs": []
    },
    {
      "cell_type": "code",
      "source": [
        "def getNeighbors(vertex):\n",
        "  if vertex in Graph:\n",
        "    return Graph[vertex]\n",
        "  else:\n",
        "    return None"
      ],
      "metadata": {
        "id": "tC47Oi30a-tj"
      },
      "execution_count": null,
      "outputs": []
    },
    {
      "cell_type": "code",
      "source": [
        "Graph['A']"
      ],
      "metadata": {
        "colab": {
          "base_uri": "https://localhost:8080/"
        },
        "id": "M9UW0YwXbYZw",
        "outputId": "2e8ae855-fac4-4565-cc60-2f3b149159cc"
      },
      "execution_count": null,
      "outputs": [
        {
          "output_type": "execute_result",
          "data": {
            "text/plain": [
              "[('B', 2), ('E', 3)]"
            ]
          },
          "metadata": {},
          "execution_count": 44
        }
      ]
    },
    {
      "cell_type": "code",
      "source": [
        "def A_StarAlgorithm(sourceNode, goalNode):\n",
        "    open_set = set(sourceNode)\n",
        "    closed_set = set()\n",
        "    distance = {}\n",
        "    parents = {}\n",
        "\n",
        "    distance[sourceNode] = 0\n",
        "    parents[sourceNode] = sourceNode\n",
        "\n",
        "    while (len(open_set)) > 0:\n",
        "      newNode = None\n",
        "\n",
        "      for vertex in open_set:\n",
        "        if newNode == None or distance[vertex] + heuristic(vertex) < distance[newNode] + heuristic(newNode):\n",
        "          newNode = vertex\n",
        "\n",
        "      if newNode == goalNode or Graph[newNode] == None:\n",
        "        pass\n",
        "      else:\n",
        "          for (m, weight) in getNeighbors(newNode):\n",
        "            if m not in open_set and m not in closed_set:\n",
        "              open_set.add(m)\n",
        "              parents[m] = newNode\n",
        "              distance[m] = distance[newNode] + weight\n",
        "\n",
        "            else:\n",
        "                if distance[m] > distance[newNode] + weight:\n",
        "                    distance[m] = distance[newNode] + weight\n",
        "                    parents[m] = newNode\n",
        "\n",
        "      if newNode == None:\n",
        "          print('Path does not exist!')\n",
        "          return None\n",
        "\n",
        "      if newNode == goalNode:\n",
        "        path = []\n",
        "        while parents[newNode] != newNode:\n",
        "          path.append(newNode)\n",
        "          newNode = parents[newNode]\n",
        "\n",
        "        path.append(sourceNode)\n",
        "        path.reverse()\n",
        "        print(f'Path found: {path}')\n",
        "        return path\n",
        "\n",
        "      open_set.remove(newNode)\n",
        "      closed_set.add(newNode)\n",
        "\n",
        "    print('Path does not exist!')\n",
        "    return None"
      ],
      "metadata": {
        "id": "_N_ek0jKbadB"
      },
      "execution_count": null,
      "outputs": []
    },
    {
      "cell_type": "code",
      "source": [
        "A_StarAlgorithm('A', 'G')"
      ],
      "metadata": {
        "colab": {
          "base_uri": "https://localhost:8080/",
          "height": 287
        },
        "id": "bsRyJ9zQjorP",
        "outputId": "6f77000c-2884-4c5c-8b7f-dce30530e7e2"
      },
      "execution_count": null,
      "outputs": [
        {
          "output_type": "error",
          "ename": "NameError",
          "evalue": "ignored",
          "traceback": [
            "\u001b[0;31m---------------------------------------------------------------------------\u001b[0m",
            "\u001b[0;31mNameError\u001b[0m                                 Traceback (most recent call last)",
            "\u001b[0;32m<ipython-input-46-b17bb0ca26a6>\u001b[0m in \u001b[0;36m<cell line: 1>\u001b[0;34m()\u001b[0m\n\u001b[0;32m----> 1\u001b[0;31m \u001b[0mA_StarAlgorithm\u001b[0m\u001b[0;34m(\u001b[0m\u001b[0;34m'A'\u001b[0m\u001b[0;34m,\u001b[0m \u001b[0;34m'G'\u001b[0m\u001b[0;34m)\u001b[0m\u001b[0;34m\u001b[0m\u001b[0;34m\u001b[0m\u001b[0m\n\u001b[0m",
            "\u001b[0;32m<ipython-input-45-5e317e7eb23a>\u001b[0m in \u001b[0;36mA_StarAlgorithm\u001b[0;34m(sourceNode, goalNode)\u001b[0m\n\u001b[1;32m     12\u001b[0m \u001b[0;34m\u001b[0m\u001b[0m\n\u001b[1;32m     13\u001b[0m       \u001b[0;32mfor\u001b[0m \u001b[0mvertex\u001b[0m \u001b[0;32min\u001b[0m \u001b[0mopen_set\u001b[0m\u001b[0;34m:\u001b[0m\u001b[0;34m\u001b[0m\u001b[0;34m\u001b[0m\u001b[0m\n\u001b[0;32m---> 14\u001b[0;31m         \u001b[0;32mif\u001b[0m \u001b[0mnewNode\u001b[0m \u001b[0;34m==\u001b[0m \u001b[0;32mNone\u001b[0m \u001b[0;32mor\u001b[0m \u001b[0mdistance\u001b[0m\u001b[0;34m[\u001b[0m\u001b[0mvertex\u001b[0m\u001b[0;34m]\u001b[0m \u001b[0;34m+\u001b[0m \u001b[0mheuristic\u001b[0m\u001b[0;34m(\u001b[0m\u001b[0mvertex\u001b[0m\u001b[0;34m)\u001b[0m \u001b[0;34m<\u001b[0m \u001b[0mdistance\u001b[0m\u001b[0;34m[\u001b[0m\u001b[0mnewNode\u001b[0m\u001b[0;34m]\u001b[0m \u001b[0;34m+\u001b[0m \u001b[0mheuristic\u001b[0m\u001b[0;34m(\u001b[0m\u001b[0mnewNode\u001b[0m\u001b[0;34m)\u001b[0m\u001b[0;34m:\u001b[0m\u001b[0;34m\u001b[0m\u001b[0;34m\u001b[0m\u001b[0m\n\u001b[0m\u001b[1;32m     15\u001b[0m           \u001b[0mnewNode\u001b[0m \u001b[0;34m=\u001b[0m \u001b[0mvertex\u001b[0m\u001b[0;34m\u001b[0m\u001b[0;34m\u001b[0m\u001b[0m\n\u001b[1;32m     16\u001b[0m \u001b[0;34m\u001b[0m\u001b[0m\n",
            "\u001b[0;32m<ipython-input-42-341f8cbbcea5>\u001b[0m in \u001b[0;36mheuristic\u001b[0;34m(node)\u001b[0m\n\u001b[1;32m      9\u001b[0m   }\n\u001b[1;32m     10\u001b[0m \u001b[0;34m\u001b[0m\u001b[0m\n\u001b[0;32m---> 11\u001b[0;31m   \u001b[0;32mreturn\u001b[0m \u001b[0mH\u001b[0m\u001b[0;34m-\u001b[0m\u001b[0mdist\u001b[0m\u001b[0;34m[\u001b[0m\u001b[0mnode\u001b[0m\u001b[0;34m]\u001b[0m\u001b[0;34m\u001b[0m\u001b[0;34m\u001b[0m\u001b[0m\n\u001b[0m",
            "\u001b[0;31mNameError\u001b[0m: name 'H' is not defined"
          ]
        }
      ]
    },
    {
      "cell_type": "code",
      "source": [],
      "metadata": {
        "id": "dJalgSgQlozN"
      },
      "execution_count": null,
      "outputs": []
    }
  ]
}