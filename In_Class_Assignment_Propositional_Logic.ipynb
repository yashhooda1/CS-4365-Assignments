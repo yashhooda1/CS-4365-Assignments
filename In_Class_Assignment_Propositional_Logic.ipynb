{
  "nbformat": 4,
  "nbformat_minor": 0,
  "metadata": {
    "colab": {
      "provenance": []
    },
    "kernelspec": {
      "name": "python3",
      "display_name": "Python 3"
    },
    "language_info": {
      "name": "python"
    }
  },
  "cells": [
    {
      "cell_type": "markdown",
      "source": [
        "from types import BuiltinFunctionType\n",
        "###Mastermind\n",
        "- Red Blue Green Yellow 2 are correct\n",
        "- Blue Red Green Yellow 0 are correct\n",
        "- conclusion: Red Blue Yellow Green"
      ],
      "metadata": {
        "id": "gmisQRc1NWIC"
      }
    },
    {
      "cell_type": "code",
      "execution_count": 28,
      "metadata": {
        "id": "JTijeMe0MvoC"
      },
      "outputs": [],
      "source": [
        "from logic import *"
      ]
    },
    {
      "cell_type": "code",
      "source": [
        "colors = [\"red\", \"blue\", \"green\", \"yellow\"]\n",
        "symbols = []\n",
        "for i in range(4):\n",
        "  for color in colors:\n",
        "    symbols.append(Symbol(f\"{color}{i}\"))"
      ],
      "metadata": {
        "id": "JDOC52AwMyKS"
      },
      "execution_count": 29,
      "outputs": []
    },
    {
      "cell_type": "code",
      "source": [
        "#symbols"
      ],
      "metadata": {
        "id": "LbFdBChJM8TE"
      },
      "execution_count": 30,
      "outputs": []
    },
    {
      "cell_type": "code",
      "source": [
        "knowledge = And()\n",
        "# Each color has a position\n",
        "for color in colors:\n",
        "  knowledge.add(Or(\n",
        "      Symbol(f\"{color}0\"),\n",
        "      Symbol(f\"{color}1\"),\n",
        "      Symbol(f\"{color}2\"),\n",
        "      Symbol(f\"{color}3\")\n",
        "  ))\n",
        "knowledge"
      ],
      "metadata": {
        "colab": {
          "base_uri": "https://localhost:8080/"
        },
        "id": "bDfW44ajNvq_",
        "outputId": "da7acd28-a8a3-4131-8804-078710cdc6b1"
      },
      "execution_count": 31,
      "outputs": [
        {
          "output_type": "execute_result",
          "data": {
            "text/plain": [
              "And(Or(red0, red1, red2, red3), Or(blue0, blue1, blue2, blue3), Or(green0, green1, green2, green3), Or(yellow0, yellow1, yellow2, yellow3))"
            ]
          },
          "metadata": {},
          "execution_count": 31
        }
      ]
    },
    {
      "cell_type": "code",
      "source": [
        "# Only one position per color\n",
        "for color in colors:\n",
        "  for i in range(4):\n",
        "    for j in range(4):\n",
        "      if i != j:\n",
        "        knowledge.add(Implication(\n",
        "            Symbol(f\"{color}{i}\"), Not(Symbol(f\"{color}{j}\"))\n",
        "        ))\n",
        "knowledge"
      ],
      "metadata": {
        "colab": {
          "base_uri": "https://localhost:8080/"
        },
        "id": "IH_f1vTaPIE3",
        "outputId": "d75c89f7-ca74-4547-87f2-605e40a86a38"
      },
      "execution_count": 36,
      "outputs": [
        {
          "output_type": "execute_result",
          "data": {
            "text/plain": [
              "And(Or(red0, red1, red2, red3), Or(blue0, blue1, blue2, blue3), Or(green0, green1, green2, green3), Or(yellow0, yellow1, yellow2, yellow3), Implication(red0, Not(red1)), Implication(red0, Not(red2)), Implication(red0, Not(red3)), Implication(red1, Not(red0)), Implication(red1, Not(red2)), Implication(red1, Not(red3)), Implication(red2, Not(red0)), Implication(red2, Not(red1)), Implication(red2, Not(red3)), Implication(red3, Not(red0)), Implication(red3, Not(red1)), Implication(red3, Not(red2)), Implication(blue0, Not(blue1)), Implication(blue0, Not(blue2)), Implication(blue0, Not(blue3)), Implication(blue1, Not(blue0)), Implication(blue1, Not(blue2)), Implication(blue1, Not(blue3)), Implication(blue2, Not(blue0)), Implication(blue2, Not(blue1)), Implication(blue2, Not(blue3)), Implication(blue3, Not(blue0)), Implication(blue3, Not(blue1)), Implication(blue3, Not(blue2)), Implication(green0, Not(green1)), Implication(green0, Not(green2)), Implication(green0, Not(green3)), Implication(green1, Not(green0)), Implication(green1, Not(green2)), Implication(green1, Not(green3)), Implication(green2, Not(green0)), Implication(green2, Not(green1)), Implication(green2, Not(green3)), Implication(green3, Not(green0)), Implication(green3, Not(green1)), Implication(green3, Not(green2)), Implication(yellow0, Not(yellow1)), Implication(yellow0, Not(yellow2)), Implication(yellow0, Not(yellow3)), Implication(yellow1, Not(yellow0)), Implication(yellow1, Not(yellow2)), Implication(yellow1, Not(yellow3)), Implication(yellow2, Not(yellow0)), Implication(yellow2, Not(yellow1)), Implication(yellow2, Not(yellow3)), Implication(yellow3, Not(yellow0)), Implication(yellow3, Not(yellow1)), Implication(yellow3, Not(yellow2)), Implication(red0, Not(blue0)), Implication(red0, Not(green0)), Implication(red0, Not(yellow0)), Implication(blue0, Not(red0)), Implication(blue0, Not(green0)), Implication(blue0, Not(yellow0)), Implication(green0, Not(red0)), Implication(green0, Not(blue0)), Implication(green0, Not(yellow0)), Implication(yellow0, Not(red0)), Implication(yellow0, Not(blue0)), Implication(yellow0, Not(green0)), Implication(red1, Not(blue1)), Implication(red1, Not(green1)), Implication(red1, Not(yellow1)), Implication(blue1, Not(red1)), Implication(blue1, Not(green1)), Implication(blue1, Not(yellow1)), Implication(green1, Not(red1)), Implication(green1, Not(blue1)), Implication(green1, Not(yellow1)), Implication(yellow1, Not(red1)), Implication(yellow1, Not(blue1)), Implication(yellow1, Not(green1)), Implication(red2, Not(blue2)), Implication(red2, Not(green2)), Implication(red2, Not(yellow2)), Implication(blue2, Not(red2)), Implication(blue2, Not(green2)), Implication(blue2, Not(yellow2)), Implication(green2, Not(red2)), Implication(green2, Not(blue2)), Implication(green2, Not(yellow2)), Implication(yellow2, Not(red2)), Implication(yellow2, Not(blue2)), Implication(yellow2, Not(green2)), Implication(red3, Not(blue3)), Implication(red3, Not(green3)), Implication(red3, Not(yellow3)), Implication(blue3, Not(red3)), Implication(blue3, Not(green3)), Implication(blue3, Not(yellow3)), Implication(green3, Not(red3)), Implication(green3, Not(blue3)), Implication(green3, Not(yellow3)), Implication(yellow3, Not(red3)), Implication(yellow3, Not(blue3)), Implication(yellow3, Not(green3)), Or(And(red0, blue1, Not(green2), Not(yellow3)), And(red0, green2, Not(blue1), Not(yellow3)), And(red0, yellow3, Not(blue1), Not(green2)), And(blue1, green2, Not(red0), Not(yellow3)), And(blue1, yellow3, Not(red0), Not(green2)), And(green2, yellow3, Not(red0), Not(blue1))), Implication(red0, Not(red1)), Implication(red0, Not(red2)), Implication(red0, Not(red3)), Implication(red1, Not(red0)), Implication(red1, Not(red2)), Implication(red1, Not(red3)), Implication(red2, Not(red0)), Implication(red2, Not(red1)), Implication(red2, Not(red3)), Implication(red3, Not(red0)), Implication(red3, Not(red1)), Implication(red3, Not(red2)), Implication(blue0, Not(blue1)), Implication(blue0, Not(blue2)), Implication(blue0, Not(blue3)), Implication(blue1, Not(blue0)), Implication(blue1, Not(blue2)), Implication(blue1, Not(blue3)), Implication(blue2, Not(blue0)), Implication(blue2, Not(blue1)), Implication(blue2, Not(blue3)), Implication(blue3, Not(blue0)), Implication(blue3, Not(blue1)), Implication(blue3, Not(blue2)), Implication(green0, Not(green1)), Implication(green0, Not(green2)), Implication(green0, Not(green3)), Implication(green1, Not(green0)), Implication(green1, Not(green2)), Implication(green1, Not(green3)), Implication(green2, Not(green0)), Implication(green2, Not(green1)), Implication(green2, Not(green3)), Implication(green3, Not(green0)), Implication(green3, Not(green1)), Implication(green3, Not(green2)), Implication(yellow0, Not(yellow1)), Implication(yellow0, Not(yellow2)), Implication(yellow0, Not(yellow3)), Implication(yellow1, Not(yellow0)), Implication(yellow1, Not(yellow2)), Implication(yellow1, Not(yellow3)), Implication(yellow2, Not(yellow0)), Implication(yellow2, Not(yellow1)), Implication(yellow2, Not(yellow3)), Implication(yellow3, Not(yellow0)), Implication(yellow3, Not(yellow1)), Implication(yellow3, Not(yellow2)))"
            ]
          },
          "metadata": {},
          "execution_count": 36
        }
      ]
    },
    {
      "cell_type": "code",
      "source": [
        "# Only one color per position\n",
        "for i in range(4):\n",
        "  for c1 in colors:\n",
        "    for c2 in colors:\n",
        "      if c1 != c2:\n",
        "        knowledge.add(Implication(\n",
        "            Symbol(f\"{c1}{i}\"), Not(Symbol(f\"{c2}{i}\"))\n",
        "        ))\n",
        "knowledge"
      ],
      "metadata": {
        "colab": {
          "base_uri": "https://localhost:8080/"
        },
        "id": "Pg7PoQ0HOAsu",
        "outputId": "ab907758-30f8-4aa9-f1a8-1e71c2b839df"
      },
      "execution_count": 37,
      "outputs": [
        {
          "output_type": "execute_result",
          "data": {
            "text/plain": [
              "And(Or(red0, red1, red2, red3), Or(blue0, blue1, blue2, blue3), Or(green0, green1, green2, green3), Or(yellow0, yellow1, yellow2, yellow3), Implication(red0, Not(red1)), Implication(red0, Not(red2)), Implication(red0, Not(red3)), Implication(red1, Not(red0)), Implication(red1, Not(red2)), Implication(red1, Not(red3)), Implication(red2, Not(red0)), Implication(red2, Not(red1)), Implication(red2, Not(red3)), Implication(red3, Not(red0)), Implication(red3, Not(red1)), Implication(red3, Not(red2)), Implication(blue0, Not(blue1)), Implication(blue0, Not(blue2)), Implication(blue0, Not(blue3)), Implication(blue1, Not(blue0)), Implication(blue1, Not(blue2)), Implication(blue1, Not(blue3)), Implication(blue2, Not(blue0)), Implication(blue2, Not(blue1)), Implication(blue2, Not(blue3)), Implication(blue3, Not(blue0)), Implication(blue3, Not(blue1)), Implication(blue3, Not(blue2)), Implication(green0, Not(green1)), Implication(green0, Not(green2)), Implication(green0, Not(green3)), Implication(green1, Not(green0)), Implication(green1, Not(green2)), Implication(green1, Not(green3)), Implication(green2, Not(green0)), Implication(green2, Not(green1)), Implication(green2, Not(green3)), Implication(green3, Not(green0)), Implication(green3, Not(green1)), Implication(green3, Not(green2)), Implication(yellow0, Not(yellow1)), Implication(yellow0, Not(yellow2)), Implication(yellow0, Not(yellow3)), Implication(yellow1, Not(yellow0)), Implication(yellow1, Not(yellow2)), Implication(yellow1, Not(yellow3)), Implication(yellow2, Not(yellow0)), Implication(yellow2, Not(yellow1)), Implication(yellow2, Not(yellow3)), Implication(yellow3, Not(yellow0)), Implication(yellow3, Not(yellow1)), Implication(yellow3, Not(yellow2)), Implication(red0, Not(blue0)), Implication(red0, Not(green0)), Implication(red0, Not(yellow0)), Implication(blue0, Not(red0)), Implication(blue0, Not(green0)), Implication(blue0, Not(yellow0)), Implication(green0, Not(red0)), Implication(green0, Not(blue0)), Implication(green0, Not(yellow0)), Implication(yellow0, Not(red0)), Implication(yellow0, Not(blue0)), Implication(yellow0, Not(green0)), Implication(red1, Not(blue1)), Implication(red1, Not(green1)), Implication(red1, Not(yellow1)), Implication(blue1, Not(red1)), Implication(blue1, Not(green1)), Implication(blue1, Not(yellow1)), Implication(green1, Not(red1)), Implication(green1, Not(blue1)), Implication(green1, Not(yellow1)), Implication(yellow1, Not(red1)), Implication(yellow1, Not(blue1)), Implication(yellow1, Not(green1)), Implication(red2, Not(blue2)), Implication(red2, Not(green2)), Implication(red2, Not(yellow2)), Implication(blue2, Not(red2)), Implication(blue2, Not(green2)), Implication(blue2, Not(yellow2)), Implication(green2, Not(red2)), Implication(green2, Not(blue2)), Implication(green2, Not(yellow2)), Implication(yellow2, Not(red2)), Implication(yellow2, Not(blue2)), Implication(yellow2, Not(green2)), Implication(red3, Not(blue3)), Implication(red3, Not(green3)), Implication(red3, Not(yellow3)), Implication(blue3, Not(red3)), Implication(blue3, Not(green3)), Implication(blue3, Not(yellow3)), Implication(green3, Not(red3)), Implication(green3, Not(blue3)), Implication(green3, Not(yellow3)), Implication(yellow3, Not(red3)), Implication(yellow3, Not(blue3)), Implication(yellow3, Not(green3)), Or(And(red0, blue1, Not(green2), Not(yellow3)), And(red0, green2, Not(blue1), Not(yellow3)), And(red0, yellow3, Not(blue1), Not(green2)), And(blue1, green2, Not(red0), Not(yellow3)), And(blue1, yellow3, Not(red0), Not(green2)), And(green2, yellow3, Not(red0), Not(blue1))), Implication(red0, Not(red1)), Implication(red0, Not(red2)), Implication(red0, Not(red3)), Implication(red1, Not(red0)), Implication(red1, Not(red2)), Implication(red1, Not(red3)), Implication(red2, Not(red0)), Implication(red2, Not(red1)), Implication(red2, Not(red3)), Implication(red3, Not(red0)), Implication(red3, Not(red1)), Implication(red3, Not(red2)), Implication(blue0, Not(blue1)), Implication(blue0, Not(blue2)), Implication(blue0, Not(blue3)), Implication(blue1, Not(blue0)), Implication(blue1, Not(blue2)), Implication(blue1, Not(blue3)), Implication(blue2, Not(blue0)), Implication(blue2, Not(blue1)), Implication(blue2, Not(blue3)), Implication(blue3, Not(blue0)), Implication(blue3, Not(blue1)), Implication(blue3, Not(blue2)), Implication(green0, Not(green1)), Implication(green0, Not(green2)), Implication(green0, Not(green3)), Implication(green1, Not(green0)), Implication(green1, Not(green2)), Implication(green1, Not(green3)), Implication(green2, Not(green0)), Implication(green2, Not(green1)), Implication(green2, Not(green3)), Implication(green3, Not(green0)), Implication(green3, Not(green1)), Implication(green3, Not(green2)), Implication(yellow0, Not(yellow1)), Implication(yellow0, Not(yellow2)), Implication(yellow0, Not(yellow3)), Implication(yellow1, Not(yellow0)), Implication(yellow1, Not(yellow2)), Implication(yellow1, Not(yellow3)), Implication(yellow2, Not(yellow0)), Implication(yellow2, Not(yellow1)), Implication(yellow2, Not(yellow3)), Implication(yellow3, Not(yellow0)), Implication(yellow3, Not(yellow1)), Implication(yellow3, Not(yellow2)), Implication(red0, Not(blue0)), Implication(red0, Not(green0)), Implication(red0, Not(yellow0)), Implication(blue0, Not(red0)), Implication(blue0, Not(green0)), Implication(blue0, Not(yellow0)), Implication(green0, Not(red0)), Implication(green0, Not(blue0)), Implication(green0, Not(yellow0)), Implication(yellow0, Not(red0)), Implication(yellow0, Not(blue0)), Implication(yellow0, Not(green0)), Implication(red1, Not(blue1)), Implication(red1, Not(green1)), Implication(red1, Not(yellow1)), Implication(blue1, Not(red1)), Implication(blue1, Not(green1)), Implication(blue1, Not(yellow1)), Implication(green1, Not(red1)), Implication(green1, Not(blue1)), Implication(green1, Not(yellow1)), Implication(yellow1, Not(red1)), Implication(yellow1, Not(blue1)), Implication(yellow1, Not(green1)), Implication(red2, Not(blue2)), Implication(red2, Not(green2)), Implication(red2, Not(yellow2)), Implication(blue2, Not(red2)), Implication(blue2, Not(green2)), Implication(blue2, Not(yellow2)), Implication(green2, Not(red2)), Implication(green2, Not(blue2)), Implication(green2, Not(yellow2)), Implication(yellow2, Not(red2)), Implication(yellow2, Not(blue2)), Implication(yellow2, Not(green2)), Implication(red3, Not(blue3)), Implication(red3, Not(green3)), Implication(red3, Not(yellow3)), Implication(blue3, Not(red3)), Implication(blue3, Not(green3)), Implication(blue3, Not(yellow3)), Implication(green3, Not(red3)), Implication(green3, Not(blue3)), Implication(green3, Not(yellow3)), Implication(yellow3, Not(red3)), Implication(yellow3, Not(blue3)), Implication(yellow3, Not(green3)))"
            ]
          },
          "metadata": {},
          "execution_count": 37
        }
      ]
    },
    {
      "cell_type": "code",
      "source": [
        "knowledge.add(Or(\n",
        "    And(Symbol(\"red0\"), Symbol(\"blue1\"), Not(Symbol(\"green2\")), Not(Symbol(\"yellow3\"))),\n",
        "    And(Symbol(\"red0\"), Symbol(\"green2\"), Not(Symbol(\"blue1\")), Not(Symbol(\"yellow3\"))),\n",
        "    And(Symbol(\"red0\"), Symbol(\"yellow3\"), Not(Symbol(\"blue1\")), Not(Symbol(\"green2\"))),\n",
        "    And(Symbol(\"blue1\"), Symbol(\"green2\"), Not(Symbol(\"red0\")), Not(Symbol(\"yellow3\"))),\n",
        "    And(Symbol(\"blue1\"), Symbol(\"yellow3\"), Not(Symbol(\"red0\")), Not(Symbol(\"green2\"))),\n",
        "    And(Symbol(\"green2\"), Symbol(\"yellow3\"), Not(Symbol(\"red0\")), Not(Symbol(\"blue1\")))\n",
        "))\n",
        "\n",
        "knowledge"
      ],
      "metadata": {
        "colab": {
          "base_uri": "https://localhost:8080/"
        },
        "id": "219xLAWGPyb0",
        "outputId": "5145c6e6-216b-4dac-f993-0f24679802ce"
      },
      "execution_count": 38,
      "outputs": [
        {
          "output_type": "execute_result",
          "data": {
            "text/plain": [
              "And(Or(red0, red1, red2, red3), Or(blue0, blue1, blue2, blue3), Or(green0, green1, green2, green3), Or(yellow0, yellow1, yellow2, yellow3), Implication(red0, Not(red1)), Implication(red0, Not(red2)), Implication(red0, Not(red3)), Implication(red1, Not(red0)), Implication(red1, Not(red2)), Implication(red1, Not(red3)), Implication(red2, Not(red0)), Implication(red2, Not(red1)), Implication(red2, Not(red3)), Implication(red3, Not(red0)), Implication(red3, Not(red1)), Implication(red3, Not(red2)), Implication(blue0, Not(blue1)), Implication(blue0, Not(blue2)), Implication(blue0, Not(blue3)), Implication(blue1, Not(blue0)), Implication(blue1, Not(blue2)), Implication(blue1, Not(blue3)), Implication(blue2, Not(blue0)), Implication(blue2, Not(blue1)), Implication(blue2, Not(blue3)), Implication(blue3, Not(blue0)), Implication(blue3, Not(blue1)), Implication(blue3, Not(blue2)), Implication(green0, Not(green1)), Implication(green0, Not(green2)), Implication(green0, Not(green3)), Implication(green1, Not(green0)), Implication(green1, Not(green2)), Implication(green1, Not(green3)), Implication(green2, Not(green0)), Implication(green2, Not(green1)), Implication(green2, Not(green3)), Implication(green3, Not(green0)), Implication(green3, Not(green1)), Implication(green3, Not(green2)), Implication(yellow0, Not(yellow1)), Implication(yellow0, Not(yellow2)), Implication(yellow0, Not(yellow3)), Implication(yellow1, Not(yellow0)), Implication(yellow1, Not(yellow2)), Implication(yellow1, Not(yellow3)), Implication(yellow2, Not(yellow0)), Implication(yellow2, Not(yellow1)), Implication(yellow2, Not(yellow3)), Implication(yellow3, Not(yellow0)), Implication(yellow3, Not(yellow1)), Implication(yellow3, Not(yellow2)), Implication(red0, Not(blue0)), Implication(red0, Not(green0)), Implication(red0, Not(yellow0)), Implication(blue0, Not(red0)), Implication(blue0, Not(green0)), Implication(blue0, Not(yellow0)), Implication(green0, Not(red0)), Implication(green0, Not(blue0)), Implication(green0, Not(yellow0)), Implication(yellow0, Not(red0)), Implication(yellow0, Not(blue0)), Implication(yellow0, Not(green0)), Implication(red1, Not(blue1)), Implication(red1, Not(green1)), Implication(red1, Not(yellow1)), Implication(blue1, Not(red1)), Implication(blue1, Not(green1)), Implication(blue1, Not(yellow1)), Implication(green1, Not(red1)), Implication(green1, Not(blue1)), Implication(green1, Not(yellow1)), Implication(yellow1, Not(red1)), Implication(yellow1, Not(blue1)), Implication(yellow1, Not(green1)), Implication(red2, Not(blue2)), Implication(red2, Not(green2)), Implication(red2, Not(yellow2)), Implication(blue2, Not(red2)), Implication(blue2, Not(green2)), Implication(blue2, Not(yellow2)), Implication(green2, Not(red2)), Implication(green2, Not(blue2)), Implication(green2, Not(yellow2)), Implication(yellow2, Not(red2)), Implication(yellow2, Not(blue2)), Implication(yellow2, Not(green2)), Implication(red3, Not(blue3)), Implication(red3, Not(green3)), Implication(red3, Not(yellow3)), Implication(blue3, Not(red3)), Implication(blue3, Not(green3)), Implication(blue3, Not(yellow3)), Implication(green3, Not(red3)), Implication(green3, Not(blue3)), Implication(green3, Not(yellow3)), Implication(yellow3, Not(red3)), Implication(yellow3, Not(blue3)), Implication(yellow3, Not(green3)), Or(And(red0, blue1, Not(green2), Not(yellow3)), And(red0, green2, Not(blue1), Not(yellow3)), And(red0, yellow3, Not(blue1), Not(green2)), And(blue1, green2, Not(red0), Not(yellow3)), And(blue1, yellow3, Not(red0), Not(green2)), And(green2, yellow3, Not(red0), Not(blue1))), Implication(red0, Not(red1)), Implication(red0, Not(red2)), Implication(red0, Not(red3)), Implication(red1, Not(red0)), Implication(red1, Not(red2)), Implication(red1, Not(red3)), Implication(red2, Not(red0)), Implication(red2, Not(red1)), Implication(red2, Not(red3)), Implication(red3, Not(red0)), Implication(red3, Not(red1)), Implication(red3, Not(red2)), Implication(blue0, Not(blue1)), Implication(blue0, Not(blue2)), Implication(blue0, Not(blue3)), Implication(blue1, Not(blue0)), Implication(blue1, Not(blue2)), Implication(blue1, Not(blue3)), Implication(blue2, Not(blue0)), Implication(blue2, Not(blue1)), Implication(blue2, Not(blue3)), Implication(blue3, Not(blue0)), Implication(blue3, Not(blue1)), Implication(blue3, Not(blue2)), Implication(green0, Not(green1)), Implication(green0, Not(green2)), Implication(green0, Not(green3)), Implication(green1, Not(green0)), Implication(green1, Not(green2)), Implication(green1, Not(green3)), Implication(green2, Not(green0)), Implication(green2, Not(green1)), Implication(green2, Not(green3)), Implication(green3, Not(green0)), Implication(green3, Not(green1)), Implication(green3, Not(green2)), Implication(yellow0, Not(yellow1)), Implication(yellow0, Not(yellow2)), Implication(yellow0, Not(yellow3)), Implication(yellow1, Not(yellow0)), Implication(yellow1, Not(yellow2)), Implication(yellow1, Not(yellow3)), Implication(yellow2, Not(yellow0)), Implication(yellow2, Not(yellow1)), Implication(yellow2, Not(yellow3)), Implication(yellow3, Not(yellow0)), Implication(yellow3, Not(yellow1)), Implication(yellow3, Not(yellow2)), Implication(red0, Not(blue0)), Implication(red0, Not(green0)), Implication(red0, Not(yellow0)), Implication(blue0, Not(red0)), Implication(blue0, Not(green0)), Implication(blue0, Not(yellow0)), Implication(green0, Not(red0)), Implication(green0, Not(blue0)), Implication(green0, Not(yellow0)), Implication(yellow0, Not(red0)), Implication(yellow0, Not(blue0)), Implication(yellow0, Not(green0)), Implication(red1, Not(blue1)), Implication(red1, Not(green1)), Implication(red1, Not(yellow1)), Implication(blue1, Not(red1)), Implication(blue1, Not(green1)), Implication(blue1, Not(yellow1)), Implication(green1, Not(red1)), Implication(green1, Not(blue1)), Implication(green1, Not(yellow1)), Implication(yellow1, Not(red1)), Implication(yellow1, Not(blue1)), Implication(yellow1, Not(green1)), Implication(red2, Not(blue2)), Implication(red2, Not(green2)), Implication(red2, Not(yellow2)), Implication(blue2, Not(red2)), Implication(blue2, Not(green2)), Implication(blue2, Not(yellow2)), Implication(green2, Not(red2)), Implication(green2, Not(blue2)), Implication(green2, Not(yellow2)), Implication(yellow2, Not(red2)), Implication(yellow2, Not(blue2)), Implication(yellow2, Not(green2)), Implication(red3, Not(blue3)), Implication(red3, Not(green3)), Implication(red3, Not(yellow3)), Implication(blue3, Not(red3)), Implication(blue3, Not(green3)), Implication(blue3, Not(yellow3)), Implication(green3, Not(red3)), Implication(green3, Not(blue3)), Implication(green3, Not(yellow3)), Implication(yellow3, Not(red3)), Implication(yellow3, Not(blue3)), Implication(yellow3, Not(green3)), Or(And(red0, blue1, Not(green2), Not(yellow3)), And(red0, green2, Not(blue1), Not(yellow3)), And(red0, yellow3, Not(blue1), Not(green2)), And(blue1, green2, Not(red0), Not(yellow3)), And(blue1, yellow3, Not(red0), Not(green2)), And(green2, yellow3, Not(red0), Not(blue1))))"
            ]
          },
          "metadata": {},
          "execution_count": 38
        }
      ]
    },
    {
      "cell_type": "code",
      "source": [
        "knowledge.add(And(\n",
        "    Not(Symbol(\"blue0\")),\n",
        "    Not(Symbol(\"red1\")),\n",
        "    Not(Symbol(\"green2\")),\n",
        "    Not(Symbol(\"yellow3\"))\n",
        "))\n",
        "knowledge"
      ],
      "metadata": {
        "colab": {
          "base_uri": "https://localhost:8080/"
        },
        "id": "2-Rb07dAScwr",
        "outputId": "b2cbd110-8238-4f5e-8892-d07ce26919c1"
      },
      "execution_count": 39,
      "outputs": [
        {
          "output_type": "execute_result",
          "data": {
            "text/plain": [
              "And(Or(red0, red1, red2, red3), Or(blue0, blue1, blue2, blue3), Or(green0, green1, green2, green3), Or(yellow0, yellow1, yellow2, yellow3), Implication(red0, Not(red1)), Implication(red0, Not(red2)), Implication(red0, Not(red3)), Implication(red1, Not(red0)), Implication(red1, Not(red2)), Implication(red1, Not(red3)), Implication(red2, Not(red0)), Implication(red2, Not(red1)), Implication(red2, Not(red3)), Implication(red3, Not(red0)), Implication(red3, Not(red1)), Implication(red3, Not(red2)), Implication(blue0, Not(blue1)), Implication(blue0, Not(blue2)), Implication(blue0, Not(blue3)), Implication(blue1, Not(blue0)), Implication(blue1, Not(blue2)), Implication(blue1, Not(blue3)), Implication(blue2, Not(blue0)), Implication(blue2, Not(blue1)), Implication(blue2, Not(blue3)), Implication(blue3, Not(blue0)), Implication(blue3, Not(blue1)), Implication(blue3, Not(blue2)), Implication(green0, Not(green1)), Implication(green0, Not(green2)), Implication(green0, Not(green3)), Implication(green1, Not(green0)), Implication(green1, Not(green2)), Implication(green1, Not(green3)), Implication(green2, Not(green0)), Implication(green2, Not(green1)), Implication(green2, Not(green3)), Implication(green3, Not(green0)), Implication(green3, Not(green1)), Implication(green3, Not(green2)), Implication(yellow0, Not(yellow1)), Implication(yellow0, Not(yellow2)), Implication(yellow0, Not(yellow3)), Implication(yellow1, Not(yellow0)), Implication(yellow1, Not(yellow2)), Implication(yellow1, Not(yellow3)), Implication(yellow2, Not(yellow0)), Implication(yellow2, Not(yellow1)), Implication(yellow2, Not(yellow3)), Implication(yellow3, Not(yellow0)), Implication(yellow3, Not(yellow1)), Implication(yellow3, Not(yellow2)), Implication(red0, Not(blue0)), Implication(red0, Not(green0)), Implication(red0, Not(yellow0)), Implication(blue0, Not(red0)), Implication(blue0, Not(green0)), Implication(blue0, Not(yellow0)), Implication(green0, Not(red0)), Implication(green0, Not(blue0)), Implication(green0, Not(yellow0)), Implication(yellow0, Not(red0)), Implication(yellow0, Not(blue0)), Implication(yellow0, Not(green0)), Implication(red1, Not(blue1)), Implication(red1, Not(green1)), Implication(red1, Not(yellow1)), Implication(blue1, Not(red1)), Implication(blue1, Not(green1)), Implication(blue1, Not(yellow1)), Implication(green1, Not(red1)), Implication(green1, Not(blue1)), Implication(green1, Not(yellow1)), Implication(yellow1, Not(red1)), Implication(yellow1, Not(blue1)), Implication(yellow1, Not(green1)), Implication(red2, Not(blue2)), Implication(red2, Not(green2)), Implication(red2, Not(yellow2)), Implication(blue2, Not(red2)), Implication(blue2, Not(green2)), Implication(blue2, Not(yellow2)), Implication(green2, Not(red2)), Implication(green2, Not(blue2)), Implication(green2, Not(yellow2)), Implication(yellow2, Not(red2)), Implication(yellow2, Not(blue2)), Implication(yellow2, Not(green2)), Implication(red3, Not(blue3)), Implication(red3, Not(green3)), Implication(red3, Not(yellow3)), Implication(blue3, Not(red3)), Implication(blue3, Not(green3)), Implication(blue3, Not(yellow3)), Implication(green3, Not(red3)), Implication(green3, Not(blue3)), Implication(green3, Not(yellow3)), Implication(yellow3, Not(red3)), Implication(yellow3, Not(blue3)), Implication(yellow3, Not(green3)), Or(And(red0, blue1, Not(green2), Not(yellow3)), And(red0, green2, Not(blue1), Not(yellow3)), And(red0, yellow3, Not(blue1), Not(green2)), And(blue1, green2, Not(red0), Not(yellow3)), And(blue1, yellow3, Not(red0), Not(green2)), And(green2, yellow3, Not(red0), Not(blue1))), Implication(red0, Not(red1)), Implication(red0, Not(red2)), Implication(red0, Not(red3)), Implication(red1, Not(red0)), Implication(red1, Not(red2)), Implication(red1, Not(red3)), Implication(red2, Not(red0)), Implication(red2, Not(red1)), Implication(red2, Not(red3)), Implication(red3, Not(red0)), Implication(red3, Not(red1)), Implication(red3, Not(red2)), Implication(blue0, Not(blue1)), Implication(blue0, Not(blue2)), Implication(blue0, Not(blue3)), Implication(blue1, Not(blue0)), Implication(blue1, Not(blue2)), Implication(blue1, Not(blue3)), Implication(blue2, Not(blue0)), Implication(blue2, Not(blue1)), Implication(blue2, Not(blue3)), Implication(blue3, Not(blue0)), Implication(blue3, Not(blue1)), Implication(blue3, Not(blue2)), Implication(green0, Not(green1)), Implication(green0, Not(green2)), Implication(green0, Not(green3)), Implication(green1, Not(green0)), Implication(green1, Not(green2)), Implication(green1, Not(green3)), Implication(green2, Not(green0)), Implication(green2, Not(green1)), Implication(green2, Not(green3)), Implication(green3, Not(green0)), Implication(green3, Not(green1)), Implication(green3, Not(green2)), Implication(yellow0, Not(yellow1)), Implication(yellow0, Not(yellow2)), Implication(yellow0, Not(yellow3)), Implication(yellow1, Not(yellow0)), Implication(yellow1, Not(yellow2)), Implication(yellow1, Not(yellow3)), Implication(yellow2, Not(yellow0)), Implication(yellow2, Not(yellow1)), Implication(yellow2, Not(yellow3)), Implication(yellow3, Not(yellow0)), Implication(yellow3, Not(yellow1)), Implication(yellow3, Not(yellow2)), Implication(red0, Not(blue0)), Implication(red0, Not(green0)), Implication(red0, Not(yellow0)), Implication(blue0, Not(red0)), Implication(blue0, Not(green0)), Implication(blue0, Not(yellow0)), Implication(green0, Not(red0)), Implication(green0, Not(blue0)), Implication(green0, Not(yellow0)), Implication(yellow0, Not(red0)), Implication(yellow0, Not(blue0)), Implication(yellow0, Not(green0)), Implication(red1, Not(blue1)), Implication(red1, Not(green1)), Implication(red1, Not(yellow1)), Implication(blue1, Not(red1)), Implication(blue1, Not(green1)), Implication(blue1, Not(yellow1)), Implication(green1, Not(red1)), Implication(green1, Not(blue1)), Implication(green1, Not(yellow1)), Implication(yellow1, Not(red1)), Implication(yellow1, Not(blue1)), Implication(yellow1, Not(green1)), Implication(red2, Not(blue2)), Implication(red2, Not(green2)), Implication(red2, Not(yellow2)), Implication(blue2, Not(red2)), Implication(blue2, Not(green2)), Implication(blue2, Not(yellow2)), Implication(green2, Not(red2)), Implication(green2, Not(blue2)), Implication(green2, Not(yellow2)), Implication(yellow2, Not(red2)), Implication(yellow2, Not(blue2)), Implication(yellow2, Not(green2)), Implication(red3, Not(blue3)), Implication(red3, Not(green3)), Implication(red3, Not(yellow3)), Implication(blue3, Not(red3)), Implication(blue3, Not(green3)), Implication(blue3, Not(yellow3)), Implication(green3, Not(red3)), Implication(green3, Not(blue3)), Implication(green3, Not(yellow3)), Implication(yellow3, Not(red3)), Implication(yellow3, Not(blue3)), Implication(yellow3, Not(green3)), Or(And(red0, blue1, Not(green2), Not(yellow3)), And(red0, green2, Not(blue1), Not(yellow3)), And(red0, yellow3, Not(blue1), Not(green2)), And(blue1, green2, Not(red0), Not(yellow3)), And(blue1, yellow3, Not(red0), Not(green2)), And(green2, yellow3, Not(red0), Not(blue1))), And(Not(blue0), Not(red1), Not(green2), Not(yellow3)))"
            ]
          },
          "metadata": {},
          "execution_count": 39
        }
      ]
    },
    {
      "cell_type": "code",
      "source": [
        "for symbol in symbols:\n",
        "  if model_check(knowledge, symbol):\n",
        "    print(symbol)"
      ],
      "metadata": {
        "colab": {
          "base_uri": "https://localhost:8080/"
        },
        "id": "IfhT0G-7QJzm",
        "outputId": "ba3aa8c5-c936-402a-c158-fde69f85fd31"
      },
      "execution_count": 40,
      "outputs": [
        {
          "output_type": "stream",
          "name": "stdout",
          "text": [
            "red0\n",
            "blue1\n",
            "yellow2\n",
            "green3\n"
          ]
        }
      ]
    },
    {
      "cell_type": "markdown",
      "source": [
        "Logic Puzzle"
      ],
      "metadata": {
        "id": "Yie58MZXUZJG"
      }
    },
    {
      "cell_type": "code",
      "source": [
        "people = [\"Gilderoy\", \"Pomona\", \"Minerva\", \"Horace\"]\n",
        "houses = [\"Gryffindor\", \"Hufflepuff\", \"Ravenclaw\", \"Slytherin\"]\n",
        "symbols = []\n",
        "knowledge = And()\n",
        "\n",
        "for person in people:\n",
        "  for house in houses:\n",
        "    symbols.append(Symbol(f\"{person}{house}\"))\n",
        "\n",
        "for person in people:\n",
        "  knowledge.add(Or(\n",
        "      Symbol(f\"{person}Gryffindor\"),\n",
        "      Symbol(f\"{person}Hufflepuff\"),\n",
        "      Symbol(f\"{person}Ravenclaw\"),\n",
        "      Symbol(f\"{person}Slytherin\")\n",
        "  ))"
      ],
      "metadata": {
        "id": "slJsyYj2TALw"
      },
      "execution_count": 43,
      "outputs": []
    },
    {
      "cell_type": "code",
      "source": [
        "#knowledge"
      ],
      "metadata": {
        "colab": {
          "base_uri": "https://localhost:8080/"
        },
        "id": "IApyMht4UVh3",
        "outputId": "b5b4ae97-81f6-4d98-ca15-30f82cdaeff5"
      },
      "execution_count": 44,
      "outputs": [
        {
          "output_type": "execute_result",
          "data": {
            "text/plain": [
              "And(Or(GilderoyGryffindor, GilderoyHufflepuff, GilderoyRavenclaw, GilderoySlytherin), Or(PomonaGryffindor, PomonaHufflepuff, PomonaRavenclaw, PomonaSlytherin), Or(MinervaGryffindor, MinervaHufflepuff, MinervaRavenclaw, MinervaSlytherin), Or(HoraceGryffindor, HoraceHufflepuff, HoraceRavenclaw, HoraceSlytherin))"
            ]
          },
          "metadata": {},
          "execution_count": 44
        }
      ]
    },
    {
      "cell_type": "code",
      "source": [
        "for person in people:\n",
        "  for h1 in houses:\n",
        "    for h2 in houses:\n",
        "      if h1 != h2:\n",
        "        knowledge.add(\n",
        "            Implication(Symbol(f\"{person}{h1}\"), Not(Symbol(f\"{person}{h2}\")))\n",
        "            )"
      ],
      "metadata": {
        "id": "MZloQuU8Ucf1"
      },
      "execution_count": 45,
      "outputs": []
    },
    {
      "cell_type": "code",
      "source": [
        "for house in houses:\n",
        "  for p1 in people:\n",
        "    for p2 in people:\n",
        "      if p1 != p2:\n",
        "        knowledge.add(\n",
        "            Implication(Symbol(f\"{p1}{house}\"), Not(Symbol(f\"{p2}{house}\")))\n",
        "            )"
      ],
      "metadata": {
        "id": "k6GURhapU-tE"
      },
      "execution_count": 46,
      "outputs": []
    },
    {
      "cell_type": "code",
      "source": [
        "knowledge.add(Or(\n",
        "    Symbol(\"GilderoyGryffindor\"), Symbol(\"GilderoyRavenclaw\")\n",
        "))\n",
        "\n",
        "knowledge.add(\n",
        "    Not(Symbol(\"PomonaSlytherin\"))\n",
        ")\n",
        "\n",
        "knowledge.add(Symbol(\"MinervaGryffindor\"))"
      ],
      "metadata": {
        "id": "_xKk3kI7VVg4"
      },
      "execution_count": 50,
      "outputs": []
    },
    {
      "cell_type": "code",
      "source": [
        "for symbol in symbols:\n",
        "  if model_check(knowledge, symbol):\n",
        "    print(symbol)"
      ],
      "metadata": {
        "colab": {
          "base_uri": "https://localhost:8080/"
        },
        "id": "zAPoPngjVYoj",
        "outputId": "50a1c27e-b1ae-4170-b2fe-a6b7506c3e3f"
      },
      "execution_count": 51,
      "outputs": [
        {
          "output_type": "stream",
          "name": "stdout",
          "text": [
            "GilderoyRavenclaw\n",
            "PomonaHufflepuff\n",
            "MinervaGryffindor\n",
            "HoraceSlytherin\n"
          ]
        }
      ]
    },
    {
      "cell_type": "code",
      "source": [],
      "metadata": {
        "id": "FxyZqjkbVg0X"
      },
      "execution_count": null,
      "outputs": []
    }
  ]
}