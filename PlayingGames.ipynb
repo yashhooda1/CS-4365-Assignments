{
  "nbformat": 4,
  "nbformat_minor": 0,
  "metadata": {
    "colab": {
      "provenance": [],
      "authorship_tag": "ABX9TyMjx4YmY0TC6QAHRntGrBnD",
      "include_colab_link": true
    },
    "kernelspec": {
      "name": "python3",
      "display_name": "Python 3"
    },
    "language_info": {
      "name": "python"
    }
  },
  "cells": [
    {
      "cell_type": "markdown",
      "metadata": {
        "id": "view-in-github",
        "colab_type": "text"
      },
      "source": [
        "<a href=\"https://colab.research.google.com/github/yashhooda1/CS-4365-Assignments/blob/main/PlayingGames.ipynb\" target=\"_parent\"><img src=\"https://colab.research.google.com/assets/colab-badge.svg\" alt=\"Open In Colab\"/></a>"
      ]
    },
    {
      "cell_type": "code",
      "execution_count": null,
      "metadata": {
        "id": "PISAVhjbV1A3"
      },
      "outputs": [],
      "source": [
        "from Game import HalvingGame\n",
        "from Game import humanPolicy"
      ]
    },
    {
      "cell_type": "code",
      "source": [
        "policies = {+1: humanPolicy, -1: humanPolicy}"
      ],
      "metadata": {
        "id": "SSi67Dt-V30v"
      },
      "execution_count": null,
      "outputs": []
    },
    {
      "cell_type": "code",
      "source": [
        "def playGame(policy):\n",
        "    game = HalvingGame(N=15)\n",
        "    state = game.startState()\n",
        "\n",
        "    while not game.isEnd(state):\n",
        "        print('='*10, state)\n",
        "        player = game.player(state)\n",
        "        policy = policies[player]\n",
        "        action = policy(game, state)\n",
        "        state = game.succ(state, action)\n",
        "    print(f'utility = {game.utility(state)}')"
      ],
      "metadata": {
        "id": "FAGdu5dMV5kE"
      },
      "execution_count": null,
      "outputs": []
    },
    {
      "cell_type": "code",
      "source": [
        "playGame(policies)"
      ],
      "metadata": {
        "colab": {
          "base_uri": "https://localhost:8080/"
        },
        "id": "aMJS2xT8V7pE",
        "outputId": "0dacd720-921c-4c2b-cf4c-22d340cc7bb5"
      },
      "execution_count": null,
      "outputs": [
        {
          "output_type": "stream",
          "name": "stdout",
          "text": [
            "========== (1, 15)\n"
          ]
        }
      ]
    },
    {
      "cell_type": "code",
      "source": [],
      "metadata": {
        "id": "h7ngQrAHV99g"
      },
      "execution_count": null,
      "outputs": []
    }
  ]
}