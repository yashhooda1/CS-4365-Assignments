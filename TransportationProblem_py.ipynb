{
  "nbformat": 4,
  "nbformat_minor": 0,
  "metadata": {
    "colab": {
      "provenance": []
    },
    "kernelspec": {
      "name": "python3",
      "display_name": "Python 3"
    },
    "language_info": {
      "name": "python"
    }
  },
  "cells": [
    {
      "cell_type": "code",
      "source": [
        "class TransportationProblem(object):\n",
        "    def __init__(self, N): #N number of city blocks\n",
        "        self.N = N\n",
        "    def startState(self):\n",
        "        return 1\n",
        "    def isEnd(self, state):\n",
        "        return state == self.N\n",
        "    def succAndCost(self, state):\n",
        "        result = []\n",
        "        if state+1<=self.N:\n",
        "            result.append(('walk' , state+1, 1))\n",
        "        if state*2<=self.N:\n",
        "            result.append(('bus', state*2, 2))\n",
        "        return result"
      ],
      "metadata": {
        "id": "7pI7Uc2RfNQw"
      },
      "execution_count": null,
      "outputs": []
    },
    {
      "cell_type": "code",
      "source": [],
      "metadata": {
        "id": "9xMWxH5ihZN_"
      },
      "execution_count": null,
      "outputs": []
    }
  ]
}