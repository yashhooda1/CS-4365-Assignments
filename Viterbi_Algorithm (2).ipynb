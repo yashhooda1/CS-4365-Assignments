{
  "nbformat": 4,
  "nbformat_minor": 0,
  "metadata": {
    "colab": {
      "provenance": []
    },
    "kernelspec": {
      "name": "python3",
      "display_name": "Python 3"
    },
    "language_info": {
      "name": "python"
    }
  },
  "cells": [
    {
      "cell_type": "code",
      "execution_count": null,
      "metadata": {
        "id": "EcL1KzZr2FaQ"
      },
      "outputs": [],
      "source": [
        "import numpy as np\n",
        "# Transition Probability (see excel)\n",
        "# tp = transition probability\n",
        "# em = emission probability\n",
        "tp = np.array([[0.8, 0.2], [0.4, 0.6]]) # SS SR RS RR\n",
        "em = np.array(([0.8, 0.2], [0.4, 0.6])) # SH SU RH RU\n",
        "prob_sunny = 2/3\n",
        "prob_rainy = 1/3"
      ]
    },
    {
      "cell_type": "code",
      "source": [
        "mood_array = ['H', 'H', 'U', 'U', 'U', 'H']\n",
        "probabilities = []\n",
        "weather = []"
      ],
      "metadata": {
        "id": "cF9ZWPaG4p_u"
      },
      "execution_count": null,
      "outputs": []
    },
    {
      "cell_type": "code",
      "source": [
        "if mood_array[0] == 'H':\n",
        "  probabilities.append((prob_sunny * em[0,0], prob_rainy*em[1,0]))\n",
        "else:\n",
        "  probabilities.append((prob_sunny * em[0,1], prob_rainy*em[1,1]))\n",
        "\n",
        "print(probabilities)\n",
        "print(probabilities[0])\n",
        "print(probabilities[-1])\n",
        "\n",
        "for i in range(1,len(mood_array)):\n",
        "  yest_sun, yest_rain = probabilities[-1]\n",
        "  if mood_array[i] == 'H':\n",
        "    today_sun = max(yest_sun*tp[0,0]*em[0,0], yest_rain*tp[1,0]*em[0,0])\n",
        "    today_rain = max(yest_sun*tp[0,1]*em[1,0], yest_rain*tp[1,1]*em[1,0])\n",
        "    probabilities.append((today_sun, today_rain))\n",
        "  else:\n",
        "    today_sun = max(yest_sun*tp[0,0]*em[0,1], yest_rain*tp[1,0]*em[0,1])\n",
        "    today_rain = max(yest_sun*tp[0,1]*em[1,1], yest_rain*tp[1,1]*em[1,1])\n",
        "    probabilities.append((today_sun, today_rain))"
      ],
      "metadata": {
        "id": "klfps3Cm5SSM",
        "colab": {
          "base_uri": "https://localhost:8080/"
        },
        "outputId": "aa117e20-365d-42e8-d687-a437deb4940b"
      },
      "execution_count": null,
      "outputs": [
        {
          "output_type": "stream",
          "name": "stdout",
          "text": [
            "[(0.5333333333333333, 0.13333333333333333)]\n",
            "(0.5333333333333333, 0.13333333333333333)\n",
            "(0.5333333333333333, 0.13333333333333333)\n"
          ]
        }
      ]
    },
    {
      "cell_type": "code",
      "source": [
        "for p in probabilities:\n",
        "  if p[0] > p[1]:\n",
        "    weather.append('S')\n",
        "  else:\n",
        "    weather.append('R')\n",
        "weather"
      ],
      "metadata": {
        "colab": {
          "base_uri": "https://localhost:8080/"
        },
        "id": "ZZzFtAyJ51fl",
        "outputId": "5014657e-ad39-4f79-96d4-38d5d815446a"
      },
      "execution_count": null,
      "outputs": [
        {
          "output_type": "execute_result",
          "data": {
            "text/plain": [
              "['S', 'S', 'S', 'R', 'R', 'S']"
            ]
          },
          "metadata": {},
          "execution_count": 27
        }
      ]
    },
    {
      "cell_type": "code",
      "source": [],
      "metadata": {
        "id": "r24KmiEp6VQd"
      },
      "execution_count": null,
      "outputs": []
    },
    {
      "cell_type": "code",
      "source": [],
      "metadata": {
        "id": "AmZqVOKvI6Xx"
      },
      "execution_count": null,
      "outputs": []
    },
    {
      "cell_type": "code",
      "source": [],
      "metadata": {
        "id": "RIXCrOhDI8O9"
      },
      "execution_count": null,
      "outputs": []
    }
  ]
}